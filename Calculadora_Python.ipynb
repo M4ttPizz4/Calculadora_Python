{
  "nbformat": 4,
  "nbformat_minor": 0,
  "metadata": {
    "colab": {
      "provenance": [],
      "collapsed_sections": []
    },
    "kernelspec": {
      "name": "python3",
      "display_name": "Python 3"
    },
    "language_info": {
      "name": "python"
    }
  },
  "cells": [
    {
      "cell_type": "code",
      "execution_count": 8,
      "metadata": {
        "colab": {
          "base_uri": "https://localhost:8080/"
        },
        "id": "A7_F4XBuCcd8",
        "outputId": "60fb7903-3009-4970-ccd7-ece2e8ef078a"
      },
      "outputs": [
        {
          "output_type": "stream",
          "name": "stdout",
          "text": [
            "[Calculadora Python Beta 0.1]\n",
            "By: M4ttPizz4\n",
            "\n",
            "Digite o número relacionado com a operação desejada:\n",
            "1.Somar.\n",
            "2.Subtrair.\n",
            "3.Multiplicar.\n",
            "4.Dividir.\n",
            "4\n",
            "Insira o primeiro número e pressione ENTER:6\n",
            "Insira o segundo número e pressione ENTER:2\n",
            "3.0\n"
          ]
        }
      ],
      "source": [
        "#Inicialização:\n",
        "print('[Calculadora Python Beta 0.1]\\nBy: M4ttPizz4\\n')\n",
        "operação = int(input('Digite o número relacionado com a operação desejada:\\n1.Somar.\\n2.Subtrair.\\n3.Multiplicar.\\n4.Dividir.\\n'))\n",
        "\n",
        "#Condições:\n",
        "#Soma:\n",
        "if(operação == 1):\n",
        "  soma1 = float(input('Insira o primeiro número e pressione ENTER:'))\n",
        "  soma2 = float(input('Insira o segundo número e pressione ENTER:'))\n",
        "  somar = soma1 + soma2\n",
        "  print(somar)\n",
        "\n",
        "#Subtração:\n",
        "if(operação == 2):\n",
        "  subt1 = float(input('Insira o primeiro número e pressione ENTER:'))\n",
        "  subt2 = float(input('Insira o segundo número e pressione ENTER:'))\n",
        "  subtr = subt1 - subt2\n",
        "  print(subtr)\n",
        "\n",
        "#Multiplicar:\n",
        "if(operação == 3):\n",
        "  mult1 = float(input('Insira o primeiro número e pressione ENTER:'))\n",
        "  mult2 = float(input('Insira o segundo número e pressione ENTER:'))\n",
        "  multr = mult1 * mult2\n",
        "  print(multr)\n",
        "\n",
        "#Dividir:\n",
        "if(operação == 4):\n",
        "  divi1 = float(input('Insira o primeiro número e pressione ENTER:'))\n",
        "  divi2 = float(input('Insira o segundo número e pressione ENTER:'))\n",
        "  divir = divi1 / divi2\n",
        "  print(divir)"
      ]
    }
  ]
}